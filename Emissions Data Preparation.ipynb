{
 "cells": [
  {
   "cell_type": "markdown",
   "metadata": {},
   "source": [
    "# Air Quality Benefits of Emissions Testing Capstone Part I: Data Cleaning\n",
    "\n",
    "## ----Project Context----\n",
    "\n",
    "In 2017 The Pennsylvania legislature was deciding whether to continue emissions testing in the state, and which test(s) to use if emissions testing was to continue.\n",
    "\n",
    "As part of a capstone project, I was part of a team that had a goal of using data to determine benefits of emissions testing and inform public policy descisions in PA. The data at our disposal consisted of emissions test results from Colorado over the span of 2010-2016.\n",
    "\n",
    "With the provided data, the team sought to investigate the following questions related to the overall project goal:\n",
    "\n",
    "- How can the emissions inspection results/data inform us about actual vehicle emissions over time?\n",
    "- How does a particular model year’s emissions change over time?\n",
    "- What amount of emissions are we preventing from entering the environment by testing?\n",
    "\n",
    "### Results\n",
    "\n",
    "After cleaning the data, as explained below, The end result of this process was generation of vehicle emissions datasets for years 2010-2016, with final datasets retaining ~30-60% of the original dataset records.\n",
    "\n",
    "|Year\t|Original count\t|17-digit VIN count\t|Non-zero emissions count\t|First tests count\t|Clean OBD count\t|Clean IM240 count\t|Both cleaned count\t|\n",
    "|---|---|---|---|---|---|---|---|\n",
    "|2016\t|1,140,730\t|1,130,164\t|729,680\t|535,631\t|403,683\t|535,412\t|403,571|\t\n",
    "|2015\t|1,149,083\t|1,135,860\t|712,018\t|521,870\t|385,160\t|521,613\t|384,997|\t\n",
    "|2014\t|1,264,855\t|1,248,393\t|1,104,735\t|845,512\t|684,367\t|845,349\t|684,272|\t\n",
    "|2013\t|1,288,070\t|1,270,072\t|1,127,618\t|856,142\t|676,829\t|856,008\t|676,742|\t\n",
    "|2012\t|1,212,144\t|1,192,982\t|1,052,938\t|806,980\t|622,752\t|806,835\t|622,677|\t\n",
    "|2011\t|451,792\t|443,254\t|379,461\t|337,732\t|243,230\t|337,675\t|243,209|\n",
    "|2010\t|514,305\t|504,838\t|426,018\t|362,410\t|251,915\t|362,308\t|251,860|\n",
    "\n",
    "### Data Privacy Note\n",
    "Please note that, for privacy reasons, the datasets originally used are no longer published for use."
   ]
  },
  {
   "cell_type": "markdown",
   "metadata": {},
   "source": [
    "## ----Data Context----\n",
    "\n",
    "Before starting analysis to answer the team's main questions, there was a desire to create a clean data set from the original Colorado data. The clean data set would include only relevant columns, and take out outliers or discrepancies found in the original data.\n",
    "\n",
    "The original datasets the team used were from Colorado emissions testing results. Data from 2010-2016 was available to the team. Each testing year's data held 500,000 - 1,000,000 rows and 250+ columns, with each row representing a unique inspection. These rows included data about the vehicle such as make/model/year/engine data, as well as test and inspection results.\n",
    "\n",
    "In Colorado, generally speaking, two emissions tests were run on vehicles:\n",
    "\n",
    "1. An OBD test. This test checks for conditions that waste fuel and shorten engine life, such as a loose gas cap.\n",
    "3. An IM240 test. This test puts a vehicle on a treadmill and simulates different driving conditions. A sensor put at the tailpipe during this test measures actual emissions of carbon monoxide (CO), hydrocarbons (HC), and nitrogen oxides (NOx) from the vehicle.\n",
    "\n",
    "The above tests were conducted according to Colorado's testing regimen. For light duty vehicles, the following rules defined testing requirements:\n",
    "\n",
    "- Vehicles within their first 7 model years are exempt from testing\n",
    "- Vehicles Model Year 1982 and newer must be inspected every other year\n",
    "- Vehicles Model Year 1981 and older and diesel Vehicles Model Year 2003 and older must be inspected every year\n",
    "\n",
    "### Data Dictionary\n",
    "\n",
    "Below is a list of column names in this dataset, and a short description of their meanings:\n",
    "- V_VIN: Vehicle VIN\n",
    "- V_DATE: Inspection Date\n",
    "- V_MAKE: Vehicle Make\n",
    "- V_MODEL: Vehicle Model\n",
    "- V_VEH_YEAR: Vehicle Year\n",
    "- V_ODOMETER: Vehicle odometer reading\n",
    "- V_CO: Carbon monoxide emissions reading\n",
    "- V_HC: Hydrocarbon emissions reading\n",
    "- V_NOX: NOx emissions reading\n",
    "- V_CO_STD: EPA CO maximum allowable emissions limit\n",
    "- V_HC_STD: EPA HC maximum allowable emissions limit\n",
    "- V_NOX_STD: EPA NOx maxium allowable emissions limit\n",
    "- V_OBD_RES: OBD test result\n",
    "- V_EM_RES: IM240 test result\n",
    "- V_RESULT: Overall inspection result. If a vehicle fails its OBD or IM240 or other inspection aspects, the entire inspection is a fail\n",
    "- V_TRANS: Vehicle transmission type\n",
    "- V_CYLINDERS: Number of cylinders the car's engine has\n",
    "- V_DISP: Engine size (Liters)\n",
    "- V_DRIVE: Vehicle drive type, eg all wheel drive\n"
   ]
  },
  {
   "cell_type": "markdown",
   "metadata": {},
   "source": [
    "### Import Python Libraries"
   ]
  },
  {
   "cell_type": "code",
   "execution_count": 3,
   "metadata": {},
   "outputs": [],
   "source": [
    "#analysis and viz imports\n",
    "import pandas as pd\n",
    "import numpy as np\n",
    "import matplotlib.pyplot as plt\n",
    "import seaborn as sns"
   ]
  },
  {
   "cell_type": "markdown",
   "metadata": {},
   "source": [
    "\n",
    "# ----Loading The Data----\n",
    "\n",
    "Note: In the below I used data from 2012. This process can be replicated for any years' data.\n",
    "\n",
    "First, I loaded in the dataset and found it's length. This gave me a measure of how many emissions tests were conducted in 2012 overall.\n",
    "\n",
    "Next I filtered out any columns that did not pertain to emissions analysis, as determined by our team and advisors. This allowed me to decrease memory usage while running code and increase data readability."
   ]
  },
  {
   "cell_type": "code",
   "execution_count": null,
   "metadata": {},
   "outputs": [],
   "source": [
    "Data_2012 = pd.read_csv(\"data\")"
   ]
  },
  {
   "cell_type": "code",
   "execution_count": null,
   "metadata": {},
   "outputs": [],
   "source": [
    "original_number_of_rows = len(Data_2012)"
   ]
  },
  {
   "cell_type": "code",
   "execution_count": null,
   "metadata": {},
   "outputs": [],
   "source": [
    "Data_2012 = VTR2012[[\"V_VIN\",\"V_DATE_TIME\" ,\"V_MAKE\", \"V_MODEL\", \"V_VEH_YEAR\", \"V_ODOMETER\" , \"V_CO\", \"V_HC\", \"V_NOX\", \"V_CO_STD\", \"V_HC_STD\", \"V_NOX_STD\", \"V_OBD_RES\", \"V_EM_RES\", \"V_RESULT\" , \"V_TRANS\", \"V_CYLINDERS\", \"V_DISP\", \"V_DRIVE\"]"
   ]
  },
  {
   "cell_type": "markdown",
   "metadata": {},
   "source": [
    "# ----Data Cleaning and Preparation----\n",
    "\n",
    "To provide data usable for analysis, we will need to conduct cleaning or preparation procedures . Those procedures will accomplish the following:\n",
    "1. VIN cleaning: vehicle VINS need to be standardized so that a subset of the VIN can be used for aggregation purposes\n",
    "2. Emissions results preparation: Any ambiguous or unknown emissions values must be omitted so resulting analyses can be taken in proper context. Results must also be labelled numerically so that it can be more easily summarized/aggregated\n",
    "3. Initial/Final test result preparation: To understand how emissions may improve due to testing, there needs to be a way to compare the first and last emissions test results for each vehicle\n",
    "5. IM240/OBD results preparation: To conduct analyses on each type of test, data sets will need to be generated that only contain records with full emissions test results in them\n",
    "6. MiniVIN summary: To summarize how each type of vehicle performs and gain general insights, data will be grouped by miniVIN and emissions summary statistics and passing rates will be compiled accordingly "
   ]
  },
  {
   "cell_type": "markdown",
   "metadata": {},
   "source": [
    "## Cleaning Vehicle VIN Numbers\n",
    "\n",
    "One goal the team identified was to cluster vehicles by their VIN number to see whether particular car makes/models perform worse than others. To facilitate this goal, the team created a unique ID to define vehicle classes using VINS. The team had learned that particular digits in a vehicle VIN identify it's make, model, year, and engine type. \n",
    "\n",
    "A standard vehicle VIN has 17 digits. When looking at the original Colorado dataset, there were many vehicles with shorter VIN lengths. To ensure that vehicles were being grouped and analyzed correctly,all records with shorter/longer VINs were not included in the cleaned data set.\n",
    "\n",
    "To start the VIN cleaning process, I removed whitespace in the VIN column so that VIN numbers could be grouped properly."
   ]
  },
  {
   "cell_type": "code",
   "execution_count": null,
   "metadata": {},
   "outputs": [],
   "source": [
    "Data_2012[\"V_VIN\"].str.strip()"
   ]
  },
  {
   "cell_type": "markdown",
   "metadata": {},
   "source": [
    "Similar to the VIN process above, white space was removed from the car make and model columns."
   ]
  },
  {
   "cell_type": "code",
   "execution_count": null,
   "metadata": {},
   "outputs": [],
   "source": [
    "Data_2012[\"V_MAKE\"].str.strip()\n",
    "Data_2012[\"V_MODEL\"].str.strip()"
   ]
  },
  {
   "cell_type": "markdown",
   "metadata": {},
   "source": [
    "Next, all instances where the vehicle VIN wasn't 17 characters long were removed from the dataset. The team had no way of knowing which characters were added ro removed from non-17 digit VINS, and thus thought it best to remove those data points rather than impute with a random guess."
   ]
  },
  {
   "cell_type": "code",
   "execution_count": null,
   "metadata": {},
   "outputs": [],
   "source": [
    "Data_2012 = Data_2012[len(Data_2012[\"V_VIN\"])==17]"
   ]
  },
  {
   "cell_type": "code",
   "execution_count": null,
   "metadata": {},
   "outputs": [],
   "source": [
    "#variable to track how many rows are remaining in our cleaned data set\n",
    "number_of_rows_w_valid_VIN = len(Data_2012)"
   ]
  },
  {
   "cell_type": "markdown",
   "metadata": {},
   "source": [
    "Next, the team created the new unique ID for a vehicle make/model/year to aid in data aggregation. The group called this identifier a \"mini-VIN,\" because it was a subset of the overall VIN number."
   ]
  },
  {
   "cell_type": "code",
   "execution_count": null,
   "metadata": {},
   "outputs": [],
   "source": [
    "Data_2012[\"mini_vin\"] = Data_2012[\"mini_vin\"][1:4]+Data_2012[\"mini_vin\"][7:8]+Data_2012[\"mini_vin\"][9:10]"
   ]
  },
  {
   "cell_type": "markdown",
   "metadata": {},
   "source": [
    "## ----Emissions Results Data Cleaning----\n",
    "\n",
    "The three pollutants that emissions tests look for are hydrocarbons (HC), carbon monoxide (CO) and nitrogen oxides (NOx). To simplify analysis any instances where an HC, CO, or NOx emission result was missing was removed."
   ]
  },
  {
   "cell_type": "code",
   "execution_count": 11,
   "metadata": {},
   "outputs": [],
   "source": [
    "#omit instances where emission results were null\n",
    "Data_2012 = Data_2012[(Data_2012[\"V_HC\"].notnull()) & (Data_2012[\"V_CO\"].notnull()) & (Data_2012[\"V_NOx\"].notnull())]"
   ]
  },
  {
   "cell_type": "markdown",
   "metadata": {},
   "source": [
    "All vehicles that use fossil fuels will emit the aforementioned pollutants into the air. To quantify the impact of emissions testing on these vehicles, any instances were HC/CO/NOx levels are 0 are removed.\n",
    "\n",
    "The team noted that zeros could be the result of a state inspection conducted on an electric vehicle, or an omission during data entry but could not confirm the cause for certain."
   ]
  },
  {
   "cell_type": "code",
   "execution_count": null,
   "metadata": {},
   "outputs": [],
   "source": [
    "#omit instances where emission results were 0\n",
    "Data_2012 = Data_2012[(Data_2012[\"V_HC\"]>0) & (Data_2012[\"V_CO\"]>0) & (Data_2012[\"V_NOx\"]>0)]"
   ]
  },
  {
   "cell_type": "code",
   "execution_count": null,
   "metadata": {},
   "outputs": [],
   "source": [
    "#variable to track how many rows are remaining in our cleaned data set\n",
    "number_of_rows_w_nonzero_emissions = len(Data_2012)"
   ]
  },
  {
   "cell_type": "markdown",
   "metadata": {},
   "source": [
    "The dataset was sorted by inspection date and vin, so the team could scroll through and quickly see instances where a vehicle had been tested multiple times.\n",
    "\n",
    "This could be used to find a case study of a vehicle tested multiple times, and the emissions improvements that resulted from re-testing."
   ]
  },
  {
   "cell_type": "code",
   "execution_count": null,
   "metadata": {},
   "outputs": [],
   "source": [
    "Data_2012 = Data_2012.sort_values(by=['V_VIN', \"V_DATE_TIME\"], axis=0, ascending=True)"
   ]
  },
  {
   "cell_type": "markdown",
   "metadata": {},
   "source": [
    "Finally, I replaced the Pass and Fail results in the OBD and IM240 results columns with ones and zeros, for more efficient data aggregation in the future.\n",
    "\n",
    "I also replaced any unclear or ambiguous results in the overall test result column."
   ]
  },
  {
   "cell_type": "code",
   "execution_count": null,
   "metadata": {},
   "outputs": [],
   "source": [
    "Data_2012[\"V_OBD_RES\"].replace({\"P\":1, \"F\":0}, inplace=True)\n",
    "Data_2012[\"V_EM_RES\"].replace({\"P\":1, \"F\":0}, inplace=True)\n",
    "Data_2012[\"V_RESULT\"].replace({\"P\":1, \"F\":0, \"W\":0, \"A\":0}, inplace=True)"
   ]
  },
  {
   "cell_type": "markdown",
   "metadata": {},
   "source": [
    "To make this process more seamless for all datasets, I created the function below to run a dataset through the above steps and return a cleaned data set in the end for use."
   ]
  },
  {
   "cell_type": "code",
   "execution_count": 1,
   "metadata": {},
   "outputs": [],
   "source": [
    "def data_cleaning_function(df):\n",
    "    df[\"V_OBD_RES\"].replace({\"P\":1, \"F\":0, \" \":0, \"C\":0, \"1\":1,\"0\":0, \"B\":0, \"M\":0}, inplace=True)\n",
    "    df[\"V_EM_RES\"].replace({\"P\":1, \"F\":0}, inplace=True)\n",
    "    df[\"V_RESULT\"].replace({\"P\":1, \"F\":0, \"W\":0, \"A\":0, \"V\":0,\"H\":0, \"5\":0,\"9\":0,\"10\":0}, inplace=True)\n",
    "    df[\"V_VIN\"].str.strip()\n",
    "    df[\"V_MAKE\"].str.strip()\n",
    "    df[\"V_MODEL\"].str.strip()\n",
    "    df = df[len(df[\"V_VIN\"])==17]\n",
    "    df[\"mini_vin\"] = df[\"mini_vin\"][1:4]+df[\"mini_vin\"][7:8]+df[\"mini_vin\"][9:10]\n",
    "    return df"
   ]
  },
  {
   "cell_type": "markdown",
   "metadata": {},
   "source": [
    "## Pollutants Saved Preparation\n",
    "\n",
    "One of the group's questions was to determine how much pollution is prevented by conducting emissions tests. The team decided to approach this question by estimating the pollutants saved by testing.\n",
    "\n",
    "To do this, two data sets were created:\n",
    "\n",
    "One dataset included the first emissions test results from each unique vehicle tested.\n",
    "\n",
    "The second dataset included the final emissions test results from each unique vehicle tested.\n",
    "\n",
    "The values of HC, CO, and NOx were taken from the first and last tests and (in Part II) subtracted from each other for each vehicle. This value was multipliecd by an average mileage calculation to estimate to determine how much pollution could be saved from that vehicle per year. This pollutants saved measure was taken for each vehicle in the dataset and aggregated to come up with a final yearly emissions saved value.\n",
    "\n",
    "In this portion of the project, the data was split into the two aforementioned data sets based on unique vehicle VIN and first/last inspection date as outlined above."
   ]
  },
  {
   "cell_type": "code",
   "execution_count": null,
   "metadata": {},
   "outputs": [],
   "source": [
    "first_tests_df = Data_2012.drop_duplicates(subset=[\"V_VIN\"], keep=\"first\")\n",
    "last_tests_df = Data_2012.drop_duplicates(subset=[\"V_VIN\"], keep=\"last\")"
   ]
  },
  {
   "cell_type": "markdown",
   "metadata": {},
   "source": [
    "As a quick measure, the total number of vehicles tested was determined by finding the length of the first_tests dataset.\n",
    "\n"
   ]
  },
  {
   "cell_type": "code",
   "execution_count": null,
   "metadata": {},
   "outputs": [],
   "source": [
    "count_of_first_tests = len(first_tests_df)"
   ]
  },
  {
   "cell_type": "code",
   "execution_count": 2,
   "metadata": {},
   "outputs": [],
   "source": [
    "def first_last_test(df,test_year):\n",
    "    df[\"V_DATE_TIME\"]=pd.to_datetime(df[\"V_DATE_TIME\"]) \n",
    "    first_tests_df = df.drop_duplicates(subset=[\"V_VIN\"], keep=\"first\")\n",
    "    last_tests_df = df.drop_duplicates(subset=[\"V_VIN\"], keep=\"last\")\n",
    "    \n",
    "    first_tests_df=first_tests_df[['V_VIN', 'V_DATE_TIME','V_MAKE', 'V_MODEL', 'V_CO_STD','V_NOX_STD','V_HC_STD','V_VEH_YEAR', 'V_ODOMETER', 'V_CO', 'V_HC','V_NOX', 'V_EM_RES']]\n",
    "    last_tests_df=last_tests_df[['V_VIN', 'V_DATE_TIME','V_ODOMETER', 'V_CO', 'V_HC','V_NOX', 'V_EM_RES']]\n",
    "    \n",
    "    first_tests_df.rename(columns={\"V_CO\": \"V_CO_first\", \"V_HC\": \"V_HC_first\",\"V_NOX\": \"V_NOX_first\",\"V_DATE_TIME\": \"V_DATE_TIME_first\", \"V_ODOMETER\":\"V_ODOMETER_first\", \"V_EM_RES\":\"V_EM_RES_first\"}, inplace=True)\n",
    "    last_tests_df.rename(columns={\"V_CO\": \"V_CO_last\", \"V_HC\": \"V_HC_last\",\"V_NOX\": \"V_NOX_last\",\"V_DATE_TIME\": \"V_DATE_TIME_last\", \"V_ODOMETER\":\"V_ODOMETER_last\", \"V_EM_RES\":\"V_EM_RES_last\"}, inplace=True)\n",
    "    \n",
    "    merged_df=first_tests_df.merge(last_tests_df,left_on=\"V_VIN\", right_on=\"V_VIN\")\n",
    "    merged_df[\"testing_year\"]=test_year\n",
    "    merged_df[\"date_time_year\"]=merged_df[\"V_DATE_TIME_first\"].dt.year\n",
    "    merged_df = merged_df[(merged_df['V_EM_RES_first']==0)&(merged_df[\"date_time_year\"]!=merged_df[\"V_VEH_YEAR\"])]\n",
    "    merged_df[\"avg_miles_travelled\"] = merged_df[\"V_ODOMETER_first\"]/(merged_df[\"date_time_year\"]-merged_df[\"V_VEH_YEAR\"])\n",
    "    \n",
    "    final_HC_df = merged_df[merged_df[\"V_HC_first\"]>=merged_df[\"V_HC_STD\"]]\n",
    "    final_HC_df[\"Theoretical HC Saved (tonnes)\"]=((final_HC_df[\"V_HC_first\"]-final_HC_df[\"V_HC_last\"])*final_HC_df[\"avg_miles_travelled\"])/907185\n",
    "    final_HC_df=final_HC_df.groupby(by=\"testing_year\").agg({\"Theoretical HC Saved (tonnes)\":\"sum\"})\n",
    "    \n",
    "    final_NOX_df = merged_df[merged_df[\"V_NOX_first\"]>=merged_df[\"V_NOX_STD\"]]\n",
    "    final_NOX_df[\"Theoretical NOX Saved (tonnes)\"]=((final_NOX_df[\"V_NOX_first\"]-final_NOX_df[\"V_NOX_last\"])*final_NOX_df[\"avg_miles_travelled\"])/907185\n",
    "    final_NOX_df=final_NOX_df.groupby(by=\"testing_year\").agg({\"Theoretical NOX Saved (tonnes)\":\"sum\"})\n",
    "    \n",
    "    final_CO_df = merged_df[merged_df[\"V_CO_first\"]>=merged_df[\"V_CO_STD\"]]\n",
    "    final_CO_df[\"Theoretical CO Saved (tonnes)\"]=((final_CO_df[\"V_CO_first\"]-final_CO_df[\"V_CO_last\"])*final_CO_df[\"avg_miles_travelled\"])/907185\n",
    "    final_CO_df=final_CO_df.groupby(by=\"testing_year\").agg({\"Theoretical CO Saved (tonnes)\":\"sum\"})\n",
    "\n",
    "    final = final_HC_df.merge(final_CO_df, left_on=\"testing_year\",right_on=\"testing_year\").merge(final_NOX_df, left_on=\"testing_year\",right_on=\"testing_year\")\n",
    "    \n",
    "    return final"
   ]
  },
  {
   "cell_type": "markdown",
   "metadata": {},
   "source": [
    "## IM240 and OBD Dataset Preparation\n",
    "\n",
    "Another question the team had was how often IM240 and OBD results differed, and what was the impact of these differences.\n",
    "\n",
    "Thus far data cleaning/prep was focused on the overall columns necessary for clustering and analysis. To approach the above question, the team wanted to create statistics for OBD and IM240 tests both separately and combined.\n",
    "\n",
    "To do this, three general types of datasets needed to be prepared:\n",
    "\n",
    "- A dataset where all OBD results were valid, for use on OBD-only analysis\n",
    "- A dataset where all IM240 results were valid, for us on IM240-only analysis\n",
    "- A dataset where all OBD and IM240 results were valid, for use in comparing IM240 and OBD results head-to-head\n",
    "\n",
    "First, a dataset for OBD results was made. This was done by only including pass (1) or fail (0) results. All other results indicated a problem, omission, or ambiguity in the test results."
   ]
  },
  {
   "cell_type": "code",
   "execution_count": null,
   "metadata": {},
   "outputs": [],
   "source": [
    "Data_2012_OBD_clean = first_tests_df[(first_tests_df[\"V_OBD_RES\"]==1)|(first_tests_df[\"V_OBD_RES\"]==0)]"
   ]
  },
  {
   "cell_type": "code",
   "execution_count": null,
   "metadata": {},
   "outputs": [],
   "source": [
    "count_of_OBD_clean_data = len(Data_2012_OBD_clean)"
   ]
  },
  {
   "cell_type": "markdown",
   "metadata": {},
   "source": [
    "Second, a dataset for IM240 results was made. This was done by only including pass (1) or fail (0) results. All other results indicated a problem, omission, or ambiguity in the test results."
   ]
  },
  {
   "cell_type": "code",
   "execution_count": null,
   "metadata": {},
   "outputs": [],
   "source": [
    "Data_2012_IM240_clean = first_tests_df[(first_tests_df[\"V_EM_RES\"]==1)|(first_tests_df[\"V_EM_RES\"]==0)]"
   ]
  },
  {
   "cell_type": "code",
   "execution_count": null,
   "metadata": {},
   "outputs": [],
   "source": [
    "count_of_IM240_clean_data = len(Data_2012_IM240_clean)"
   ]
  },
  {
   "cell_type": "markdown",
   "metadata": {},
   "source": [
    "Lastly, a dataset for OBD & IM240 results was made. This was done by only including pass (1) or fail (0) results for IM240 and OBD tests. All other results indicate a problem, omission, or ambiguity in the test results.\n",
    "\n"
   ]
  },
  {
   "cell_type": "code",
   "execution_count": null,
   "metadata": {},
   "outputs": [],
   "source": [
    "Data_2012_Both_clean = first_tests_df[((first_tests_df[\"V_EM_RES\"]==1)|(first_tests_df[\"V_EM_RES\"]==0)) & (first_tests_df[\"V_OBD_RES\"]==1)|(first_tests_df[\"V_OBD_RES\"]==0)]"
   ]
  },
  {
   "cell_type": "code",
   "execution_count": null,
   "metadata": {},
   "outputs": [],
   "source": [
    "Data_2012_Both_clean = Data_2012_Both_clean[Data_2012_Both_clean[\"V_RESULT\"].notnull()]"
   ]
  },
  {
   "cell_type": "code",
   "execution_count": null,
   "metadata": {},
   "outputs": [],
   "source": [
    "count_of_both_clean_df = len(Data_2012_Both_clean)"
   ]
  },
  {
   "cell_type": "markdown",
   "metadata": {},
   "source": [
    "## Mini Vin Pass/Fail Dataset Generation\n",
    "\n",
    "With the above 3 datasets created, miniVIN data could be grouped and analyzed. This would help analyze the group's questions regarding a model year's emissions over time, in the lens of each type of test.\n",
    "\n",
    "### ---- IM240 PASS RATE ----\n",
    "\n",
    "To start, I grouped the IM240 data by miniVIN and IM240 emissions result. I then created several aggregate columns that displayed the count of vehicles of a particular miniVIN that were tested and the number that passed the test."
   ]
  },
  {
   "cell_type": "code",
   "execution_count": 75,
   "metadata": {},
   "outputs": [],
   "source": [
    "IM240_only_clean_df = Data_2012_IM240_clean[[\"mini_vin\", \"V_EM_RES\"]].groupby(by=\"mini_vin\", axis=0).agg({\"V_EM_RES\": [\"count\",\"sum\"]})"
   ]
  },
  {
   "cell_type": "markdown",
   "metadata": {},
   "source": [
    "Next, I renamed and re-formatted column names for clarity."
   ]
  },
  {
   "cell_type": "code",
   "execution_count": 76,
   "metadata": {},
   "outputs": [],
   "source": [
    "IM240_only_clean_df.columns=IM240_only_clean_df.columns.droplevel(0)"
   ]
  },
  {
   "cell_type": "code",
   "execution_count": 77,
   "metadata": {},
   "outputs": [],
   "source": [
    "IM240_only_clean_df.rename(columns={\"count\": \"IM240_vehicles_tested\", \"sum\":\"IM240_passed\"}, inplace=True)"
   ]
  },
  {
   "cell_type": "markdown",
   "metadata": {},
   "source": [
    "Finally, I created a pass rate for each miniVIN by dividing the number of vehicles tested by the total number tested."
   ]
  },
  {
   "cell_type": "code",
   "execution_count": 78,
   "metadata": {},
   "outputs": [],
   "source": [
    "IM240_only_clean_df[\"IM240_pass_rate\"] = 100*IM240_only_clean_df[\"IM240_passed\"]/(IM240_only_clean_df[\"IM240_vehicles_tested\"])"
   ]
  },
  {
   "cell_type": "code",
   "execution_count": null,
   "metadata": {},
   "outputs": [],
   "source": [
    "len(IM240_only_clean_df)"
   ]
  },
  {
   "cell_type": "markdown",
   "metadata": {},
   "source": [
    "### ---- OBD PASS RATE ----\n",
    "\n",
    "Below, an OBD pass rate by miniVIN was created using the same steps as above for the IM240 data set."
   ]
  },
  {
   "cell_type": "code",
   "execution_count": 105,
   "metadata": {},
   "outputs": [],
   "source": [
    "OBD_only_clean_df = Data_2012_OBD_clean[[\"mini_vin\", \"V_OBD_RES\"]].groupby(by=\"mini_vin\", axis=0).agg({\"V_OBD_RES\": [\"count\",\"sum\"]})"
   ]
  },
  {
   "cell_type": "code",
   "execution_count": 107,
   "metadata": {},
   "outputs": [],
   "source": [
    "OBD_only_clean_df.columns=OBD_only_clean_df.columns.droplevel(0)"
   ]
  },
  {
   "cell_type": "code",
   "execution_count": 108,
   "metadata": {},
   "outputs": [],
   "source": [
    "OBD_only_clean_df.rename(columns={\"count\": \"OBD_vehicles_tested\", \"sum\":\"OBD_passed\"}, inplace=True)"
   ]
  },
  {
   "cell_type": "code",
   "execution_count": 109,
   "metadata": {},
   "outputs": [],
   "source": [
    "OBD_only_clean_df[\"OBD_pass_rate\"] = 100*OBD_only_clean_df[\"OBD_passed\"]/(OBD_only_clean_df[\"OBD_vehicles_tested\"])"
   ]
  },
  {
   "cell_type": "code",
   "execution_count": null,
   "metadata": {},
   "outputs": [],
   "source": [
    "len(OBD_only_clean_df)"
   ]
  },
  {
   "cell_type": "markdown",
   "metadata": {},
   "source": [
    "### ---- IM240 AND OBD PASS RATE ----\n",
    "\n",
    "Below, an overall pass rate by miniVIN was created using the same steps as above. This dataset only contains instances where a vechile got clear pass/fail results on both emissions tests."
   ]
  },
  {
   "cell_type": "code",
   "execution_count": 123,
   "metadata": {},
   "outputs": [],
   "source": [
    "OBD_and_IM240_clean_df = Data_2012_OBD_AND_IM240_clean[[\"mini_vin\", \"V_RESULT\"]].groupby(by=\"mini_vin\", axis=0).agg({\"V_RESULT\": [\"count\",\"sum\"]})"
   ]
  },
  {
   "cell_type": "code",
   "execution_count": 124,
   "metadata": {},
   "outputs": [],
   "source": [
    "OBD_and_IM240_clean_df.columns=OBD_and_IM240_clean_df.columns.droplevel(0)"
   ]
  },
  {
   "cell_type": "code",
   "execution_count": 126,
   "metadata": {},
   "outputs": [],
   "source": [
    "OBD_and_IM240_clean_df.rename(columns={\"count\": \"Both_clean_vehicles_tested\", \"sum\":\"Both_passed\"}, inplace=True)"
   ]
  },
  {
   "cell_type": "code",
   "execution_count": 128,
   "metadata": {},
   "outputs": [],
   "source": [
    "OBD_and_IM240_clean_df[\"OBD_and_IM240_pass_rate\"] = 100*OBD_and_IM240_clean_df[\"Both_passed\"]/(OBD_and_IM240_clean_df[\"Both_clean_vehicles_tested\"])"
   ]
  },
  {
   "cell_type": "code",
   "execution_count": null,
   "metadata": {},
   "outputs": [],
   "source": [
    "len(OBD_and_IM240_clean_df)"
   ]
  },
  {
   "cell_type": "markdown",
   "metadata": {},
   "source": [
    "## Emissions, Make and Model Data Generation\n",
    "\n",
    "In this section, data was created to summarize the total vehicles with a given make, model, and year in separate tables. This provided insights into the distribution of vehicles in the state and allow us to create average emissions figures based on total emissions and total vehicles of a given type.\n",
    "\n",
    "This was done for each emission type separately, after which the data was aggregated.\n",
    "\n",
    "For each pollutant, the following steps were followed:\n",
    "- a subset of the overall dataset was taken with only the vehicle make, model, year and relevant emission total included\n",
    "- this dataset was grouped by miniVIN, model and make\n",
    "- this dataset also included aggregate columns to show emissions summary statistics for each miniVIN/make/model combination \n",
    "- finally, the resultant dataframe was formatted so that column labels could be read more easily"
   ]
  },
  {
   "cell_type": "code",
   "execution_count": 254,
   "metadata": {},
   "outputs": [],
   "source": [
    "# function to get the first and third quartile emissions value for a given miniVIN/make/model vehicle\n",
    "def percentile(n):\n",
    "    def percentile_(x):\n",
    "        return np.percentile(x, n)\n",
    "    percentile_.__name__ = 'percentile_%s' % n\n",
    "    return percentile_"
   ]
  },
  {
   "cell_type": "code",
   "execution_count": 231,
   "metadata": {},
   "outputs": [],
   "source": [
    "CO_summary = Data_2012[[\"mini_vin\",\"V_MAKE\",\"V_MODEL\", \"V_CO\"]].groupby(by=[\"mini_vin\", \"V_MODEL\", \"V_MAKE\"], axis=0).agg({\"mini_vin\":[\"count\"],\"V_CO\": [\"min\",percentile(25),\"median\",\"mean\",percentile(75),\"max\"]})\n",
    "CO_summary.columns=CO_summary.columns.droplevel(0)\n",
    "CO_summary.rename(columns={\"count\": \"mini_vin_count\", \"min\":\"V_CO_min\", \"percentile_25\": \"V_CO_1st_qua.\", \"median\":\"V_CO_median\",\"mean\":\"V_CO_mean\",\"percentile_75\":\"V_CO_3rd_qua.\",\"max\":\"V_CO_max\"}, inplace=True)\n",
    "CO_summary.reset_index(inplace=True)"
   ]
  },
  {
   "cell_type": "code",
   "execution_count": 236,
   "metadata": {},
   "outputs": [],
   "source": [
    "HC_summary = Data_2012[[\"mini_vin\",\"V_MAKE\",\"V_MODEL\", \"V_HC\"]].groupby(by=[\"mini_vin\", \"V_MODEL\", \"V_MAKE\"], axis=0).agg({\"V_HC\": [\"min\",percentile(25),\"median\",\"mean\",percentile(75),\"max\"]})\n",
    "HC_summary.columns=HC_summary.columns.droplevel(0)\n",
    "HC_summary.rename(columns={\"min\":\"V_HC_min\", \"percentile_25\": \"V_HC_1st_qua.\", \"median\":\"V_HC_median\",\"mean\":\"V_HC_mean\",\"percentile_75\":\"V_HC_3rd_qua.\",\"max\":\"V_HC_max\"}, inplace=True)\n",
    "HC_summary.reset_index(inplace=True)"
   ]
  },
  {
   "cell_type": "code",
   "execution_count": 237,
   "metadata": {},
   "outputs": [],
   "source": [
    "NOX_summary = Data_2012[[\"mini_vin\",\"V_MAKE\",\"V_MODEL\", \"V_NOX\"]].groupby(by=[\"mini_vin\", \"V_MODEL\", \"V_MAKE\"], axis=0).agg({\"V_NOX\": [\"min\",percentile(25),\"median\",\"mean\",percentile(75),\"max\"]})\n",
    "NOX_summary.columns=NOX_summary.columns.droplevel(0)\n",
    "NOX_summary.rename(columns={\"min\":\"V_NOX_min\", \"percentile_25\": \"V_NOX_1st_qua.\", \"median\":\"V_NOX_median\",\"mean\":\"V_NOX_mean\",\"percentile_75\":\"V_NOX_3rd_qua.\",\"max\":\"V_NOX_max\"}, inplace=True)\n",
    "NOX_summary.reset_index(inplace=True)"
   ]
  },
  {
   "cell_type": "markdown",
   "metadata": {},
   "source": [
    "After statistics were generated for each pollutant type, the above tables were joined on miniVIN, make, and model to create one summary table."
   ]
  },
  {
   "cell_type": "code",
   "execution_count": 252,
   "metadata": {},
   "outputs": [],
   "source": [
    "summary_stats_2012 = CO_summary.merge(HC_summary, how='inner', left_on=[\"mini_vin\",\"V_MAKE\",\"V_MODEL\"],right_on=[\"mini_vin\",\"V_MAKE\",\"V_MODEL\"]).merge(NOX_summary, how='inner', left_on=[\"mini_vin\",\"V_MAKE\",\"V_MODEL\"],right_on=[\"mini_vin\",\"V_MAKE\",\"V_MODEL\"])\n",
    "summary_stats_2012.drop(['index'],axis=1,inplace=True)"
   ]
  },
  {
   "cell_type": "markdown",
   "metadata": {},
   "source": [
    "## Conclusion\n",
    "With the above steps taken, the team now had the following cleaned datasets at its disposal:\n",
    "\n",
    "- Overall cleaned dataset, with complete inspections for both IM240 and OBD results\n",
    "- Cleaned dataset including records with complete IM240 results, regardless of whether OBD results where available\n",
    "- Cleaned dataset including records with complete OBD results, regardless of whether OBD results where available\n",
    "- Overall cleaned dataset including each unique vehicle's first emissions test only\n",
    "- Overall cleaned dataset including each unique vehicle's last emissions test only\n",
    "- Dataset showing summary statistics for each vehicle make/model/year's emissions testing results\n",
    "\n",
    "The above data could now be used to investigate the team's questions.\n",
    "\n",
    "### Summary of Remaining Data\n",
    "\n",
    "The following summary table has been created to show how many rows remain in each dataset to be used and how many unique miniVINs were recorded in each testing year.\n",
    "\n",
    "|Year\t|Original count\t|17-digit VIN count\t|Non-zero emissions count\t|First tests count\t|Clean OBD count\t|Clean IM240 count\t|Both cleaned count\t|IM240 miniVIN count|\n",
    "|---|---|---|---|---|---|---|---|---|\n",
    "|2016\t|1,140,730\t|1,130,164\t|729,680\t|535,631\t|403,683\t|535,412\t|403,571\t|12,557|\n",
    "|2015\t|1,149,083\t|1,135,860\t|712,018\t|521,870\t|385,160\t|521,613\t|384,997\t|12,264|\n",
    "|2014\t|1,264,855\t|1,248,393\t|1,104,735\t|845,512\t|684,367\t|845,349\t|684,272\t|14,793|\n",
    "|2013\t|1,288,070\t|1,270,072\t|1,127,618\t|856,142\t|676,829\t|856,008\t|676,742\t|14,345|\n",
    "|2012\t|1,212,144\t|1,192,982\t|1,052,938\t|806,980\t|622,752\t|806,835\t|622,677\t|13,791|\n",
    "|2011\t|451,792\t|443,254\t|379,461\t|337,732\t|243,230\t|337,675\t|243,209|\t12,042|\n",
    "|2010\t|514,305\t|504,838\t|426,018\t|362,410\t|251,915\t|362,308\t|251,860\t|11,951|"
   ]
  }
 ],
 "metadata": {
  "kernelspec": {
   "display_name": "Python 3",
   "language": "python",
   "name": "python3"
  },
  "language_info": {
   "codemirror_mode": {
    "name": "ipython",
    "version": 3
   },
   "file_extension": ".py",
   "mimetype": "text/x-python",
   "name": "python",
   "nbconvert_exporter": "python",
   "pygments_lexer": "ipython3",
   "version": "3.8.5"
  }
 },
 "nbformat": 4,
 "nbformat_minor": 4
}
