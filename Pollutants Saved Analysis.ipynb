{
 "cells": [
  {
   "cell_type": "code",
   "execution_count": 1,
   "id": "d3f75043",
   "metadata": {
    "scrolled": true
   },
   "outputs": [
    {
     "name": "stderr",
     "output_type": "stream",
     "text": [
      "Warning message in file(file, \"rt\"):\n",
      "\"cannot open file 'C:/Users/Allan/Downloads/VTR2014.txt': No such file or directory\""
     ]
    },
    {
     "ename": "ERROR",
     "evalue": "Error in file(file, \"rt\"): cannot open the connection\n",
     "output_type": "error",
     "traceback": [
      "Error in file(file, \"rt\"): cannot open the connection\nTraceback:\n",
      "1. read.csv(\"C:/Users/Allan/Downloads/VTR2014.txt\")",
      "2. read.table(file = file, header = header, sep = sep, quote = quote, \n .     dec = dec, fill = fill, comment.char = comment.char, ...)",
      "3. file(file, \"rt\")"
     ]
    }
   ],
   "source": [
    "## CHANGE THIS TO SHOW LOADING OF RELEVANT CLEANED DATA SETS\n",
    "VTR2014 <- read.csv(\"C:/Users/Allan/Downloads/VTR2014.txt\")\n",
    "#loads the relevant data\n",
    "original_count <- length(VTR2014$V_VIN)\n",
    "original_count <- as.data.frame(original_count)\n",
    "\n"
   ]
  },
  {
   "cell_type": "code",
   "execution_count": null,
   "id": "bcb07f46",
   "metadata": {},
   "outputs": [],
   "source": []
  },
  {
   "cell_type": "code",
   "execution_count": null,
   "id": "31543f8a",
   "metadata": {},
   "outputs": [],
   "source": [
    "VTR2014 <- transform(VTR2014, HC_adjusted = VTR2014$V_HC)\n",
    "VTR2014 <- transform(VTR2014, CO_adjusted = VTR2014$V_CO)\n",
    "VTR2014 <- transform(VTR2014, NOX_adjusted = VTR2014$V_NOX)\n",
    "\n"
   ]
  },
  {
   "cell_type": "code",
   "execution_count": null,
   "id": "806c327b",
   "metadata": {},
   "outputs": [],
   "source": [
    "## PREVIOUS DATA CLEANING STEPS; SUMMARIZE AND DELETE THIS FROM PROJECT\n",
    "\n",
    "#finds the original number of vehicles in the data\n",
    "VTR2014 <- VTR2014[,c(\"V_VIN\",\"V_DATE_TIME\" ,\"V_MAKE\", \"V_MODEL\", \"V_VEH_YEAR\", \"V_ODOMETER\" , \"HC_adjusted\", \"CO_adjusted\", \"NOX_adjusted\", \"V_CO_STD\", \"V_HC_STD\", \"V_NOX_STD\", \"V_OBD_RES\", \"V_EM_RES\", \"V_RESULT\" , \"V_TRANS\", \"V_CYLINDERS\", \"V_DISP\", \"V_DRIVE\", \"V_CO_RES\", \"V_HC_RES\", \"V_NOX_RES\" )]\n",
    "#cuts down data to only the relevant fields\n",
    "\n",
    "VIN_cleaned <- trimws(VTR2014$V_VIN,\"both\")\n",
    "#makes a VIN category wihtout any white space beofre or after the VIN\n",
    "\n",
    "VTR2014 <- transform(VTR2014, VIN_cleaned = VIN_cleaned)\n",
    "#appends the cleaned vin category to the original dataset\n",
    "\n",
    "MAKE_cleaned <- trimws(VTR2014$V_MAKE,\"both\")\n",
    "#makes a car make category wihtout any white space beofre or after the VIN\n",
    "\n",
    "VTR2014 <- transform(VTR2014, MAKE_cleaned = MAKE_cleaned)\n",
    "#appends the cleaned make category to the original dataset\n",
    "\n",
    "MODEL_cleaned <- trimws(VTR2014$V_MODEL,\"both\")\n",
    "#makes a model category wihtout any white space beofre or after the VIN\n",
    "\n",
    "VTR2014 <- transform(VTR2014, MODEL_cleaned = MODEL_cleaned)\n",
    "#appends the cleaned model category to the original dataset\n",
    "\n",
    "\n",
    "VTR2014 <- VTR2014[nchar(as.character(VTR2014$VIN_cleaned)) == 17 ,]\n",
    "#filters the data so only rows with a 17 digit cleaned_vin show up\n",
    "digit_17_VIN_count <- length(VTR2014$V_VIN)\n",
    "digit_17_VIN_count <- as.data.frame(digit_17_VIN_count)\n",
    "mini_vin <- substr(VTR2014$VIN_cleaned, 2 ,4)\n",
    "mini_vin <-paste(mini_vin, substr(VTR2014$VIN_cleaned, 8,8), sep = \"\")\n",
    "mini_vin <-paste(mini_vin, substr(VTR2014$VIN_cleaned, 10,10), sep = \"\")\n",
    "mini_vin <- as.data.frame(mini_vin)\n",
    "#creates new field of truncated VIN numbers\n",
    "\n",
    "VTR2014 <- cbind(VTR2014, mini_vin)\n",
    "#makes new data set with the new field in it\n",
    "\n",
    "VTR2014 <- subset(VTR2014, !is.na(HC_adjusted & CO_adjusted & NOX_adjusted))\n",
    "#VTR_VIN_NA_check <- VTR2014[!is.na(VTR2014$V_HC) & !is.na(VTR2014$V_CO) & !is.na(VTR2014$V_NOX),]\n",
    "#all.equal(VTR2014, VTR_VIN_NA_check)\n",
    "#filters out all NA values for HC, Co, NOX\n",
    "\n",
    "VTR2014 <- VTR2014[VTR2014$HC_adjusted > 0 & VTR2014$CO_adjusted > 0 & VTR2014$NOX_adjusted > 0 & VTR2014$V_VEH_YEAR < 2014,]\n",
    "#gets rid of data that has all zeros for emissions results\n",
    "non_zero_emissions_count <- length(VTR2014$V_VIN)\n",
    "non_zero_emissions_count <- as.data.frame(non_zero_emissions_count)\n",
    "\n",
    "sorted_list <- VTR2014[with(VTR2014, order(VIN_cleaned, V_DATE_TIME, decreasing=FALSE)),] #no quotes around column names\n",
    "#sort the data by date and vin\n",
    "\n",
    "first_tests <- sorted_list[!duplicated(sorted_list$VIN_cleaned, fromLast=FALSE),]\n",
    "last_tests <- sorted_list[!duplicated(sorted_list$VIN_cleaned, fromLast=TRUE),]\n",
    "#get entries from unique vins for first tests only and last tests only\n",
    "\n",
    "count_of_first_tests <- length(first_tests$V_VIN)\n",
    "count_of_first_tests <- as.data.frame(count_of_first_tests)\n",
    "\n",
    "#VTR2014 <- first_tests[first_tests$V_EM_RES == \"P\" | first_tests$V_EM_RES == \"F\",]\n",
    "#filters results so only clean IM240 results are shown\n",
    "count_of_IM240_clean <- length(VTR2014$V_VIN)\n",
    "count_of_IM240_clean <- as.data.frame(count_of_IM240_clean)\n",
    "\n"
   ]
  },
  {
   "cell_type": "code",
   "execution_count": null,
   "id": "369aad67",
   "metadata": {},
   "outputs": [],
   "source": [
    "#creates a new dataframe that includes only records for cars that eventually passed the emissions test\n",
    "#for these cars, the first and last (if applicable) emissions quantities found during testing were added as columns\n",
    "first_tests_new <- transform(first_tests, new_CO = last_tests$CO_adjusted)\n",
    "first_tests_new <- transform(first_tests_new, new_NOX = last_tests$NOX_adjusted)\n",
    "first_tests_new <- transform(first_tests_new, new_HC = last_tests$HC_adjusted)\n",
    "first_tests_new <- transform(first_tests_new, last_CO = last_tests$V_CO_RES)\n",
    "first_tests_new <- transform(first_tests_new, last_HC = last_tests$V_HC_RES)\n",
    "first_tests_new <- transform(first_tests_new, last_NOX = last_tests$V_NOX_RES)\n",
    "first_tests_new <- transform(first_tests_new, last_time = last_tests$V_DATE_TIME)\n",
    "\n"
   ]
  },
  {
   "cell_type": "code",
   "execution_count": null,
   "id": "d0ffadf8",
   "metadata": {},
   "outputs": [],
   "source": [
    "\n",
    "#standardized time, taking it out of the original dataframe's format so timestamps can be subtracted\n",
    "first_tests_new$V_DATE_TIME <- as.POSIXct(first_tests_new$V_DATE_TIME, tz = \"GMT\")\n",
    "first_tests_new$last_time <- as.POSIXct(first_tests_new$last_time, tz = \"GMT\")\n",
    "\n"
   ]
  },
  {
   "cell_type": "code",
   "execution_count": null,
   "id": "548a7d7f",
   "metadata": {},
   "outputs": [],
   "source": [
    "#new field created, to measure the delta in time between the initial emissions test and the final emissions test for a given vehicle\n",
    "first_tests_new <- transform(first_tests_new, delta_time = first_tests_new$last_time - first_tests_new$V_DATE_TIME)\n",
    "first_tests_new <- transform(first_tests_new, new_delta = as.numeric(first_tests_new$delta_time))\n"
   ]
  },
  {
   "cell_type": "code",
   "execution_count": null,
   "id": "8758feda",
   "metadata": {},
   "outputs": [],
   "source": [
    "#filters the dataset to only include cars with failing tests\n",
    "first_tests_new <- first_tests_new[first_tests_new$V_EM_RES ==\"F\",]\n",
    "first_tests_new <- first_tests_new[first_tests_new$new_delta > 1,]\n",
    "\n"
   ]
  },
  {
   "cell_type": "code",
   "execution_count": null,
   "id": "947e637a",
   "metadata": {},
   "outputs": [],
   "source": [
    "first_tests_new <- transform(first_tests_new, mileage_per_year = first_tests_new$V_ODOMETER/(2014 - first_tests_new$V_VEH_YEAR))\n",
    "#creates new data set that holds both initial and final emissions results. Also creates a mileage per year field\n",
    "\n"
   ]
  },
  {
   "cell_type": "code",
   "execution_count": null,
   "id": "9b5bc79d",
   "metadata": {},
   "outputs": [],
   "source": [
    "#creates a new field, showing the difference between initial emissions and final emissions in a vehicle. this difference is plotted\n",
    "first_tests_new <- transform(first_tests_new, plotted_first_difference_CO = first_tests_new$CO_adjusted - first_tests_new$V_CO_STD)\n",
    "first_tests_new <- transform(first_tests_new, plotted_last_difference_CO = first_tests_new$new_CO - first_tests_new$V_CO_STD)\n",
    "plot(first_tests_new$plotted_first_difference_CO, first_tests_new$plotted_last_difference_CO)\n",
    "\n",
    "\n"
   ]
  },
  {
   "cell_type": "code",
   "execution_count": null,
   "id": "3189b213",
   "metadata": {},
   "outputs": [],
   "source": [
    "#the same process done above is repeated for all emissions tested for the vehicles, and plotted\n",
    "#first_tests_CO <- first_tests_new[first_tests_new$CO_adjusted - first_tests_new$new_CO > 0 & first_tests_new$last_CO == \"P\",]\n",
    "first_tests_CO <- first_tests_CO[first_tests_CO$V_CO_RES == \"F\",]\n",
    "first_tests_NOX <- first_tests_new[first_tests_new$NOX_adjusted - first_tests_new$new_NOX > 0 & first_tests_new$last_NOX == \"P\",]\n",
    "first_tests_HC <- first_tests_new[first_tests_new$HC_adjusted - first_tests_new$new_HC > 0 & first_tests_new$last_HC == \"P\",]\n",
    "#creates new data sets to hold cars that failed a particular pollutant test\n"
   ]
  },
  {
   "cell_type": "code",
   "execution_count": null,
   "id": "2cd02c6a",
   "metadata": {},
   "outputs": [],
   "source": [
    "\n",
    "first_tests_CO <- transform(first_tests_CO, CO_saved = first_tests_CO$mileage_per_year*(first_tests_CO$CO_adjusted - first_tests_CO$new_CO)/907185 )\n",
    "first_tests_NOX <- transform(first_tests_NOX, NOX_saved = first_tests_NOX$mileage_per_year*(first_tests_NOX$NOX_adjusted - first_tests_NOX$new_NOX)/907185 )\n",
    "first_tests_HC <- transform(first_tests_HC, HC_saved = first_tests_HC$mileage_per_year*(first_tests_HC$HC_adjusted - first_tests_HC$new_HC)/907185 )\n",
    "#finds how much emissions were saved with each vehicle\n",
    "\n"
   ]
  },
  {
   "cell_type": "code",
   "execution_count": null,
   "id": "96711187",
   "metadata": {},
   "outputs": [],
   "source": [
    "#emissions saved due to testing is calculated below\n",
    "#this is done as follows:\n",
    "#multiply the average milage travelled for the vehicle by the delta in emissions found above.\n",
    "CO_saved_by_mini_vin <- aggregate(CO_saved~mini_vin, first_tests_CO, sum)\n",
    "CO_saved_by_mini_vin <- CO_saved_by_mini_vin[with(CO_saved_by_mini_vin, order(CO_saved, decreasing = TRUE)),]\n",
    "#finds the CO saved by miniVIN\n",
    "\n",
    "Nox_saved_by_mini_vin <- aggregate(NOX_saved~mini_vin, first_tests_NOX, sum)\n",
    "Nox_saved_by_mini_vin <- Nox_saved_by_mini_vin[with(Nox_saved_by_mini_vin, order(NOX_saved, decreasing = TRUE)),]\n",
    "#finds the NOX saved by minivin\n",
    "\n",
    "HC_saved_by_mini_vin <- aggregate(HC_saved~mini_vin, first_tests_HC, sum)\n",
    "HC_saved_by_mini_vin <- HC_saved_by_mini_vin[with(HC_saved_by_mini_vin, order(HC_saved, decreasing = TRUE)),]\n",
    "#finds the HC saved by miniVIN\n",
    "\n"
   ]
  },
  {
   "cell_type": "code",
   "execution_count": null,
   "id": "2957952e",
   "metadata": {},
   "outputs": [],
   "source": [
    "#the above values, initially per mini_vin, are aggregated to find total emissions saved due to emissions testing below.\n",
    "total_CO_saved <- sum(CO_saved_by_mini_vin$CO_saved)\n",
    "total_NOX_saved <- sum(Nox_saved_by_mini_vin$NOX_saved)\n",
    "total_HC_saved <- sum(HC_saved_by_mini_vin$HC_saved)\n",
    "#finds the total emissions saved\n",
    "\n",
    "\n"
   ]
  },
  {
   "cell_type": "code",
   "execution_count": null,
   "id": "835940a2",
   "metadata": {},
   "outputs": [],
   "source": [
    "#pollutants lost shown below.\n",
    "\n",
    "#same procedure done as above, but for vehicles that failed their last emissions test\n",
    "#this helps identify potential emissions lost due to cars that continue driving for a period after failing inspection\n",
    "\n",
    "first_tests_CO_failed_last <- first_tests_new[first_tests_new$CO_adjusted - first_tests_new$new_CO < 0 & first_tests_new$last_CO == \"F\",]\n",
    "first_tests_NOX_failed_last <- first_tests_new[first_tests_new$NOX_adjusted - first_tests_new$new_NOX < 0 & first_tests_new$last_CO == \"F\",]\n",
    "first_tests_HC_failed_last <- first_tests_new[first_tests_new$HC_adjusted - first_tests_new$new_HC < 0 & first_tests_new$last_CO == \"F\",]\n",
    "#creates new data sets to hold cars that failed a particular pollutant test\n",
    "\n",
    "first_tests_CO_failed_last <- transform(first_tests_CO_failed_last, CO_lost = first_tests_CO_failed_last$mileage_per_year*(first_tests_CO_failed_last$CO_adjusted - first_tests_CO_failed_last$new_CO)/907185 )\n",
    "first_tests_NOX_failed_last <- transform(first_tests_NOX_failed_last, NOX_lost = first_tests_NOX_failed_last$mileage_per_year*(first_tests_NOX_failed_last$NOX_adjusted - first_tests_NOX_failed_last$new_NOX)/907185 )\n",
    "first_tests_HC_failed_last <- transform(first_tests_HC_failed_last, HC_lost = first_tests_HC_failed_last$mileage_per_year*(first_tests_HC_failed_last$HC_adjusted - first_tests_HC_failed_last$new_HC)/907185 )\n",
    "#finds how much emissions were saved with each vehicle\n",
    "\n",
    "CO_lost_by_mini_vin <- aggregate(CO_lost~mini_vin, first_tests_CO_failed_last, sum)\n",
    "CO_lost_by_mini_vin <- CO_lost_by_mini_vin[with(CO_lost_by_mini_vin, order(CO_lost, decreasing = TRUE)),]\n",
    "#finds the CO saved by miniVIN\n",
    "\n",
    "\n",
    "HC_lost_by_mini_vin <- aggregate(HC_lost~mini_vin, first_tests_HC_failed_last, sum)\n",
    "HC_lost_by_mini_vin <- HC_lost_by_mini_vin[with(HC_lost_by_mini_vin, order(HC_lost, decreasing = TRUE)),]\n",
    "#finds the CO saved by miniVIN\n",
    "\n",
    "NOX_lost_by_mini_vin <- aggregate(NOX_lost~mini_vin, first_tests_NOX_failed_last, sum)\n",
    "NOX_lost_by_mini_vin <- NOX_lost_by_mini_vin[with(NOX_lost_by_mini_vin, order(NOX_lost, decreasing = TRUE)),]\n",
    "#finds the CO saved by miniVIN\n",
    "\n",
    "total_CO_lost <- sum(CO_lost_by_mini_vin$CO_lost)\n",
    "total_NOX_lost <- sum(NOX_lost_by_mini_vin$NOX_lost)\n",
    "total_HC_lost <- sum(HC_lost_by_mini_vin$HC_lost)\n",
    "\n"
   ]
  },
  {
   "cell_type": "code",
   "execution_count": null,
   "id": "8cf3164e",
   "metadata": {},
   "outputs": [],
   "source": []
  },
  {
   "cell_type": "code",
   "execution_count": null,
   "id": "361549dd",
   "metadata": {},
   "outputs": [],
   "source": []
  },
  {
   "cell_type": "code",
   "execution_count": null,
   "id": "a142a2c9",
   "metadata": {},
   "outputs": [],
   "source": []
  }
 ],
 "metadata": {
  "kernelspec": {
   "display_name": "R",
   "language": "R",
   "name": "ir"
  },
  "language_info": {
   "codemirror_mode": "r",
   "file_extension": ".r",
   "mimetype": "text/x-r-source",
   "name": "R",
   "pygments_lexer": "r",
   "version": "3.6.1"
  }
 },
 "nbformat": 4,
 "nbformat_minor": 5
}
