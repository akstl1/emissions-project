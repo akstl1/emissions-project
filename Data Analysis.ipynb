{
 "cells": [
  {
   "cell_type": "markdown",
   "id": "c45bbe65",
   "metadata": {},
   "source": [
    "## Context / Intro"
   ]
  },
  {
   "cell_type": "markdown",
   "id": "be3f48a3",
   "metadata": {},
   "source": [
    "### Failure By Model Year"
   ]
  },
  {
   "cell_type": "code",
   "execution_count": null,
   "id": "dc7815cf",
   "metadata": {},
   "outputs": [],
   "source": [
    "VTR2016 <- read.csv(\"cleaned_data_path\")"
   ]
  },
  {
   "cell_type": "code",
   "execution_count": null,
   "id": "a6500441",
   "metadata": {},
   "outputs": [],
   "source": [
    "#creates new dataframes, one for cars that passed the obd test and for cars that failed the test.\n",
    "#a ones column was added to help count the number of cars that passed and failed the test overall\n",
    "Failed_VTR2016 <- VTR2016[which(VTR2016$V_OBD_RES == \"F\"),]\n",
    "Failed_VTR2016 <- transform(Failed_VTR2016, ones = 1)\n",
    "Passed_VTR2016 <- VTR2016[which(VTR2016$V_OBD_RES == \"P\"),]\n",
    "Passed_VTR2016 <- transform(Passed_VTR2016, ones = 1)"
   ]
  },
  {
   "cell_type": "code",
   "execution_count": null,
   "id": "a356c9c9",
   "metadata": {},
   "outputs": [],
   "source": [
    "#aggregates the above data by model year to show how many cars of that year passed and failed the test\n",
    "fails_by_model_year <- aggregate(ones~V_VEH_YEAR, Failed_VTR2016, sum)\n",
    "passes_by_model_year <- aggregate(ones~V_VEH_YEAR, Passed_VTR2016, sum)\n",
    "#exlcludes data past 2011, because vehicles less than 5 years old do not get tested for emissions\n",
    "passes_by_model_year <- passes_by_model_year[which(passes_by_model_year$V_VEH_YEAR<=2011),]"
   ]
  },
  {
   "cell_type": "code",
   "execution_count": null,
   "id": "8782a058",
   "metadata": {},
   "outputs": [],
   "source": [
    "#a new table is created below in which a fail rate of the obd test is created by model year, by using a ratio of passed and failed tests from above.\n",
    "new_table <- fails_by_model_year\n",
    "new_table <- transform(new_table, pass_numbers = passes_by_model_year$ones)\n",
    "new_table <- transform(new_table, fail_rate = 100*new_table$ones/(new_table$ones+new_table$pass_numbers) )\n",
    "new_table <- transform(new_table, count_of_cars = new_table$ones+new_table$pass_numbers)"
   ]
  },
  {
   "cell_type": "code",
   "execution_count": null,
   "id": "708e1301",
   "metadata": {},
   "outputs": [],
   "source": [
    "failure_percent_by_model_year_2016 <- new_table[,c(\"V_VEH_YEAR\", \"fail_rate\", \"count_of_cars\")]"
   ]
  },
  {
   "cell_type": "markdown",
   "id": "fb9b3bca",
   "metadata": {},
   "source": [
    "### Model Year Pollution Degradation"
   ]
  },
  {
   "cell_type": "code",
   "execution_count": null,
   "id": "4edbcd62",
   "metadata": {},
   "outputs": [],
   "source": [
    "#install.packages('ggplot2')\n",
    "library(\"ggplot2\")\n",
    "\n",
    "#Set working directory as needed\n",
    "setwd('D:/R/Model_Year_Tracking_Data')\n",
    "\n",
    "#load data set\n",
    "#data includes model year of vehicle, and average pollution for HC, NOX, CO for each model year during the given testing year\n",
    "#Note that years before 2010 were not included because not all testing years required vehicles with model year in the late 2000s to test\n",
    "#model years from pre-2000 also did not have substantial quantities of records for all testing years and were thus not included\n",
    "#model years past 2011 were not included as vehicles past this cutoff were not required to be tested yet during the time of this analysis\n",
    "Model_Year_Data = read.csv(\"./Model_Year_Pollution_Tracking.csv\",header = TRUE)\n",
    "\n"
   ]
  },
  {
   "cell_type": "code",
   "execution_count": null,
   "id": "38331965",
   "metadata": {},
   "outputs": [],
   "source": [
    "#below 3 plots are created, one each for CO, HC, and NOX emissions\n",
    "#plots are made so data is by plotted by vehicle year, and grouped/colored by the emissions testing year\n",
    "ggplot(Model_Year_Data,aes(ï..Vehicle_Year, CO_Emissions_grams_per_mile,color=Testing_Year, group=Testing_Year)) + \n",
    "  geom_line() + \n",
    "  xlab('Vehicle Year') +\n",
    "  ylab('CO Emissions (grams/mile)')+\n",
    "  ggtitle('CO Emissions by Model Year and Testing Year')+\n",
    "  scale_x_continuous(breaks=c(1982,1990,2000,2010))+\n",
    "  scale_y_continuous(breaks=seq(0,50,10))\n",
    "\n",
    "\n",
    "ggplot(Model_Year_Data,aes(ï..Vehicle_Year, HC_Emissions_grams_per_mile,color=Testing_Year, group=Testing_Year)) + \n",
    "  geom_line() + \n",
    "  xlab('Vehicle Year') +\n",
    "  ylab('HC Emissions (grams/mile)')+\n",
    "  ggtitle('HC Emissions by Model Year and Testing Year')+\n",
    "  scale_x_continuous(breaks=c(1982,1990,2000,2010))+\n",
    "  scale_y_continuous(breaks=seq(0,3.5,.5))\n",
    "\n",
    "ggplot(Model_Year_Data,aes(ï..Vehicle_Year, NOX_Emissions_grams_per_mile,color=Testing_Year, group=Testing_Year)) + \n",
    "  geom_line() + \n",
    "  xlab('Vehicle Year') +\n",
    "  ylab('NOX Emissions (grams/mile)')+\n",
    "  ggtitle('NOX Emissions by Model Year and Testing Year')+\n",
    "  scale_x_continuous(breaks=c(1982,1990,2000,2010))+\n",
    "  scale_y_continuous(breaks=seq(0,3,.5))\n",
    "  #scale_colour_manual(name = \"\", \n",
    "   #                   values = c(\"green3\", \"orange\", \"blue\", \"red\", \"grey\", \"purple\", \"yellow\"))\n",
    "\n",
    "\n",
    "###################################################################\n",
    "\n"
   ]
  },
  {
   "cell_type": "code",
   "execution_count": null,
   "id": "5b0aa368",
   "metadata": {},
   "outputs": [],
   "source": [
    "#now we will create a table and charts to track how the average emission value for a model year fleet changed over time\n",
    "#first we initialize empty vectors for each pollutant\n",
    "CO_change_vector = vector()\n",
    "HC_change_vector = vector()\n",
    "NOX_change_vector = vector()\n",
    "\n",
    "#the for loop below will run through each model year, and subtract the average pollutant value for all three pollutants of the 2016 test year\n",
    "#by the values in the 2010 test year\n",
    "#the end results will be saved in the three vectors above\n",
    "for (x in 1982:2011) {\n",
    "HC_Change_value = Model_Year_Data[Model_Year_Data$Testing_Year==2016 & Model_Year_Data$ï..Vehicle_Year==x,]$HC_Emissions_grams_per_mile - Model_Year_Data[Model_Year_Data$Testing_Year==2010 & Model_Year_Data$ï..Vehicle_Year==x,]$HC_Emissions_grams_per_mile\n",
    "NOX_Change_value = Model_Year_Data[Model_Year_Data$Testing_Year==2016 & Model_Year_Data$ï..Vehicle_Year==x,]$NOX_Emissions_grams_per_mile - Model_Year_Data[Model_Year_Data$Testing_Year==2010 & Model_Year_Data$ï..Vehicle_Year==x,]$NOX_Emissions_grams_per_mile\n",
    "CO_Change_value = Model_Year_Data[Model_Year_Data$Testing_Year==2016 & Model_Year_Data$ï..Vehicle_Year==x,]$CO_Emissions_grams_per_mile - Model_Year_Data[Model_Year_Data$Testing_Year==2010 & Model_Year_Data$ï..Vehicle_Year==x,]$CO_Emissions_grams_per_mile\n",
    "\n",
    "HC_change_vector = c(HC_change_vector,HC_Change_value)\n",
    "NOX_change_vector = c(NOX_change_vector,NOX_Change_value)\n",
    "CO_change_vector = c(CO_change_vector,CO_Change_value)\n",
    "\n",
    "}\n",
    "\n",
    "#change the vectors to dataframes, and create a years column to represent each model year\n",
    "HC_change_vector=as.data.frame(HC_change_vector)\n",
    "NOX_change_vector=as.data.frame(NOX_change_vector)\n",
    "CO_change_vector=as.data.frame(CO_change_vector)\n",
    "years = as.data.frame(c(1982:2011))\n",
    "\n"
   ]
  },
  {
   "cell_type": "code",
   "execution_count": null,
   "id": "f24c0be3",
   "metadata": {},
   "outputs": [],
   "source": [
    "#create new table to show model year emissions change calculations from above\n",
    "Pollution_Change_df = as.data.frame(cbind(years,CO_change_vector, HC_change_vector,NOX_change_vector))\n",
    "\n",
    "#below the emissions change data calculated above is plotted, model year vs emissions change\n",
    "#note because of scale, CO is graphed separately than NOX and HC.\n",
    "\n",
    "ggplot() + \n",
    "  geom_line(data=Pollution_Change_df,aes(x=`c(1982:2011)`, y=NOX_change_vector), color='red')+\n",
    "  geom_line(data=Pollution_Change_df,aes(x=`c(1982:2011)`, y=HC_change_vector),color='blue')+\n",
    "  #geom_line(data=Pollution_Change_df,aes(x=Pollution_Change_df$`c(1982:2011)`, y=Pollution_Change_df$CO_change_vector),color='green')+\n",
    "\n",
    "  xlab('Vehicle Year') +\n",
    "  ylab('Change in Emissions, 2010 to 2016, g/mile')+\n",
    "  ggtitle('NOX&HC Emissions Change by Model Year, 2010 to 2016')+\n",
    "  scale_x_continuous(breaks=c(1982,1990,2000,2010))\n",
    "  \n",
    "\n",
    "ggplot() + \n",
    "  geom_line(data=Pollution_Change_df,aes(x=`c(1982:2011)`, y=CO_change_vector),color='green')+\n",
    "  \n",
    "  xlab('Vehicle Year') +\n",
    "  ylab('Change in Emissions, 2010 to 2016, g/mile')+\n",
    "  ggtitle('CO Emissions Change by Model Year, 2010 to 2016')+\n",
    "  scale_x_continuous(breaks=c(1982,1990,2000,2010))\n",
    "\n",
    "#looking at the charts, we see that the value for each graph started relatively high and then decreased\n"
   ]
  },
  {
   "cell_type": "code",
   "execution_count": null,
   "id": "37e2cd06",
   "metadata": {},
   "outputs": [],
   "source": [
    "#################################################################################################\n",
    "\n",
    "#the below calculations mirror those of the section above, but showing percent change rather than g/mile raw change\n",
    "CO_percent_change_vector = vector()\n",
    "HC_percent_change_vector = vector()\n",
    "NOX_percent_change_vector = vector()\n",
    "\n",
    "for (x in 1982:2011) {\n",
    "  HC_pct_Change_value = 100*(Model_Year_Data[Model_Year_Data$Testing_Year==2016 & Model_Year_Data$ï..Vehicle_Year==x,]$HC_Emissions_grams_per_mile - Model_Year_Data[Model_Year_Data$Testing_Year==2010 & Model_Year_Data$ï..Vehicle_Year==x,]$HC_Emissions_grams_per_mile)/Model_Year_Data[Model_Year_Data$Testing_Year==2010 & Model_Year_Data$ï..Vehicle_Year==x,]$HC_Emissions_grams_per_mile\n",
    "  NOX_pct_Change_value = 100*(Model_Year_Data[Model_Year_Data$Testing_Year==2016 & Model_Year_Data$ï..Vehicle_Year==x,]$NOX_Emissions_grams_per_mile - Model_Year_Data[Model_Year_Data$Testing_Year==2010 & Model_Year_Data$ï..Vehicle_Year==x,]$NOX_Emissions_grams_per_mile)/Model_Year_Data[Model_Year_Data$Testing_Year==2010 & Model_Year_Data$ï..Vehicle_Year==x,]$NOX_Emissions_grams_per_mile\n",
    "  CO_pct_Change_value = 100*(Model_Year_Data[Model_Year_Data$Testing_Year==2016 & Model_Year_Data$ï..Vehicle_Year==x,]$CO_Emissions_grams_per_mile - Model_Year_Data[Model_Year_Data$Testing_Year==2010 & Model_Year_Data$ï..Vehicle_Year==x,]$CO_Emissions_grams_per_mile)/Model_Year_Data[Model_Year_Data$Testing_Year==2010 & Model_Year_Data$ï..Vehicle_Year==x,]$CO_Emissions_grams_per_mile\n",
    "  \n",
    "  HC_percent_change_vector = c(HC_percent_change_vector,HC_pct_Change_value)\n",
    "  NOX_percent_change_vector = c(NOX_percent_change_vector,NOX_pct_Change_value)\n",
    "  CO_percent_change_vector = c(CO_percent_change_vector,CO_pct_Change_value)\n",
    "  \n",
    "}\n",
    "\n",
    "\n",
    "Pollution_Percent_Change_df = cbind(years,CO_percent_change_vector, HC_percent_change_vector,NOX_percent_change_vector)\n",
    "\n",
    "ggplot() + \n",
    "  geom_line(data=Pollution_Percent_Change_df,aes(x=`c(1982:2011)`, y=NOX_percent_change_vector), color='red')+\n",
    "  geom_line(data=Pollution_Percent_Change_df,aes(x=`c(1982:2011)`, y=HC_percent_change_vector),color='blue')+\n",
    "  xlab('Vehicle Year') +\n",
    "  ylab('Percent Change in Emissions, 2010 to 2016')+\n",
    "  ggtitle('NOX&HC Emissions Percent Change by Model Year, 2010 to 2016')+\n",
    "  scale_x_continuous(breaks=c(1982,1990,2000,2010))\n",
    "  \n",
    "\n",
    "ggplot() + \n",
    "  geom_line(data=Pollution_Percent_Change_df,aes(x=`c(1982:2011)`, y=CO_percent_change_vector),color='green')+\n",
    "  \n",
    "  xlab('Vehicle Year') +\n",
    "  ylab('Percent Change in Emissions, 2010 to 2016, g/mile')+\n",
    "  ggtitle('CO Emissions Percent Change by Model Year, 2010 to 2016')+\n",
    "  scale_x_continuous(breaks=c(1982,1990,2000,2010))\n",
    "\n",
    "#looking at the charts, we see a highly fluctuating line\n",
    "#this is likely because newer model year vehicles emitted far less than older vehicles\n",
    "#thus minor changes/degradation to the pollution controls of newer vehicles would still lead to high % change values\n",
    "#because of this sensitivity, using the charts from section above are likely to be more useful for presentation"
   ]
  },
  {
   "cell_type": "markdown",
   "id": "df60b8b0",
   "metadata": {},
   "source": [
    "### Pollution Control Degradation"
   ]
  },
  {
   "cell_type": "code",
   "execution_count": null,
   "id": "cca59e41",
   "metadata": {},
   "outputs": [],
   "source": [
    "#plot(x=seq(1982,2017),y=aggregate(V_HC~V_VEH_YEAR, VTR2010, mean)[,2]/max(aggregate(V_HC~V_VEH_YEAR, VTR2010, mean)[,2]), xlab=\"Vehicle Year\", ylab=\"HC/NOX/COavg (grams/mile)\", main=\"HC/NOX/CO Emission by Vehicle Year\", pch=15, cex.lab=1.4,col=\"blue\")\n",
    "#points(x=seq(1982,2017),aggregate(V_NOX~V_VEH_YEAR,VTR2010,mean)[,2]/max(aggregate(V_NOX~V_VEH_YEAR,VTR2010,mean)[,2]),pch=15, col=\"red\")\n",
    "#points(x=seq(1982,2017),aggregate(V_CO~V_VEH_YEAR,VTR2010,mean)[,2]/max(aggregate(V_CO~V_VEH_YEAR,VTR2010,mean)[,2]),pch=15, col=\"green\")\n",
    "#legend(2008,.7, c(\"HC\",\"NOX\",\"CO\"),lty=c(1,1,1),lwd=c(2.5,2.5,2.5),col=c(\"blue\",\"red\",\"green\"))\n",
    "\n",
    "#the above lines of code create plots of emissions per model year for HC, NOX, CO. They are \n",
    "#normalized to 1 so they could be plotted on the same graph\n",
    "\n",
    "VTR2016 <- read.csv(\"C:/Users/Allan/Downloads/VTR2016.txt\")\n",
    "#loads the relevant data\n",
    "\n"
   ]
  },
  {
   "cell_type": "code",
   "execution_count": null,
   "id": "bd6863e7",
   "metadata": {},
   "outputs": [],
   "source": [
    "HC_Amount_first=aggregate(V_HC~V_VEH_YEAR, first_tests, mean)\n",
    "NOX_amount_first=aggregate(V_NOX~V_VEH_YEAR,first_tests,mean)\n",
    "CO_amount_first=aggregate(V_CO~V_VEH_YEAR,first_tests,mean)\n",
    "#shows average emissions of first test by vehicle model year\n",
    "Vehicle_year_first <- cbind(HC_Amount_first, NOX_amount_first, CO_amount_first)\n",
    "write.csv(Vehicle_year_first, \"C:/Users/Allan/Documents/Carnegie Mellon/Junior Year/Spring/EPP Projects/degradation/2010/Vehicle_Year_first_test_emissions_2010.csv\")\n",
    "#exports files as a csv file\n",
    "\n"
   ]
  },
  {
   "cell_type": "code",
   "execution_count": null,
   "id": "396bb639",
   "metadata": {},
   "outputs": [],
   "source": [
    "HC_Amount_Make_first=aggregate(V_HC~V_MAKE, first_tests, mean)\n",
    "NOX_amount_Make_first=aggregate(V_NOX~V_MAKE,first_tests,mean)\n",
    "CO_amount_Make_first=aggregate(V_CO~V_MAKE,first_tests,mean)\n",
    "#shows average emissions of first test by vehicle make\n",
    "Vehicle_make_first <- cbind(HC_Amount_Make_first, NOX_amount_Make_first, CO_amount_Make_first)\n",
    "write.csv(Vehicle_make_first, \"C:/Users/Allan/Documents/Carnegie Mellon/Junior Year/Spring/EPP Projects/degradation/2010/Vehicle_Make_first_test_emissions_2010.csv\")\n",
    "#exports files as a csv file\n",
    "\n",
    "HC_Amount_Model_first=aggregate(V_HC~V_MODEL, first_tests, mean)\n",
    "NOX_amount_Model_first=aggregate(V_NOX~V_MODEL,first_tests,mean)\n",
    "CO_amount_Model_first=aggregate(V_CO~V_MODEL,first_tests,mean)\n",
    "#shows average emissions of first test by model year\n",
    "Vehicle_model_first <- cbind(HC_Amount_Model_first, NOX_amount_Model_first, CO_amount_Model_first)\n",
    "write.csv(Vehicle_model_first, \"C:/Users/Allan/Documents/Carnegie Mellon/Junior Year/Spring/EPP Projects/degradation/2010/Vehicle_Model_first_test_emissions_2010.csv\")\n",
    "#exports files as csv file\n",
    "\n",
    "HC_Amount_VIN_first=aggregate(V_HC~new_vin, first_tests, mean)\n",
    "NOX_amount_VIN_first=aggregate(V_NOX~new_vin,first_tests,mean)\n",
    "CO_amount_VIN_first=aggregate(V_CO~new_vin,first_tests,mean)\n",
    "#shows average emissions of first test by first 8 digits of the VIN\n",
    "Vehicle_VIN_first <- cbind(HC_Amount_VIN_first, NOX_amount_VIN_first, CO_amount_VIN_first)\n",
    "write.csv(Vehicle_VIN_first, \"C:/Users/Allan/Documents/Carnegie Mellon/Junior Year/Spring/EPP Projects/degradation/2010/Vehicle_VIN_first_test_emissions_2010.csv\")\n",
    "#exports files as csv file\n",
    "\n"
   ]
  },
  {
   "cell_type": "code",
   "execution_count": null,
   "id": "e3e85c64",
   "metadata": {},
   "outputs": [],
   "source": [
    "HC_Amount_last=aggregate(V_HC~V_VEH_YEAR, last_tests, mean)\n",
    "NOX_amount_last=aggregate(V_NOX~V_VEH_YEAR,last_tests,mean)\n",
    "CO_amount_last=aggregate(V_CO~V_VEH_YEAR,last_tests,mean)\n",
    "#shows average emissions of last test by vehicle model year\n",
    "Vehicle_year_last <- cbind(HC_Amount_last, NOX_amount_last, CO_amount_last)\n",
    "write.csv(Vehicle_year_last, \"C:/Users/Allan/Documents/Carnegie Mellon/Junior Year/Spring/EPP Projects/degradation/2010/Vehicle_year_last_test_emissions_2010.csv\")\n",
    "#exports files as csv file\n",
    "\n",
    "HC_Amount_Make_last=aggregate(V_HC~V_MAKE, last_tests, mean)\n",
    "NOX_amount_Make_last=aggregate(V_NOX~V_MAKE,last_tests,mean)\n",
    "CO_amount_Make_last=aggregate(V_CO~V_MAKE,last_tests,mean)\n",
    "#shows average emissions of last test by vehicle make\n",
    "Vehicle_Make_last <- cbind(HC_Amount_Make_last, NOX_amount_Make_last, CO_amount_Make_last)\n",
    "write.csv(Vehicle_Make_last, \"C:/Users/Allan/Documents/Carnegie Mellon/Junior Year/Spring/EPP Projects/degradation/2010/Vehicle_Make_last_test_emissions_2010.csv\")\n",
    "#exports files as csv file\n",
    "\n",
    "HC_Amount_Model_last=aggregate(V_HC~V_MODEL, last_tests, mean)\n",
    "NOX_amount_Model_last=aggregate(V_NOX~V_MODEL,last_tests,mean)\n",
    "CO_amount_Model_last=aggregate(V_CO~V_MODEL,last_tests,mean)\n",
    "#shows average emissions of last test by model year\n",
    "Vehicle_Model_last <- cbind(HC_Amount_Model_last, NOX_amount_Model_last, CO_amount_Model_last)\n",
    "write.csv(Vehicle_Model_last, \"C:/Users/Allan/Documents/Carnegie Mellon/Junior Year/Spring/EPP Projects/degradation/2010/Vehicle_Model_last_test_emissions_2010.csv\")\n",
    "#exports files as a csv file\n",
    "\n",
    "HC_Amount_VIN_last=aggregate(V_HC~new_vin, last_tests, mean)\n",
    "NOX_amount_VIN_last=aggregate(V_NOX~new_vin,last_tests,mean)\n",
    "CO_amount_VIN_last=aggregate(V_CO~new_vin,last_tests,mean)\n",
    "#shows average emissions of last test by first 8 digits of the VIN\n",
    "VIN_last <- cbind(HC_Amount_VIN_last, NOX_amount_VIN_last, CO_amount_VIN_last)\n",
    "write.csv(VIN_last, \"C:/Users/Allan/Documents/Carnegie Mellon/Junior Year/Spring/EPP Projects/degradation/2010/Vin_last_2010.csv\")\n",
    "#exports files as csv file\n"
   ]
  },
  {
   "cell_type": "markdown",
   "id": "3941d161",
   "metadata": {},
   "source": [
    "### Pollutants Saved"
   ]
  },
  {
   "cell_type": "code",
   "execution_count": null,
   "id": "8aa7ac2b",
   "metadata": {},
   "outputs": [],
   "source": [
    "#creates a new dataframe that includes only records for cars that eventually passed the emissions test\n",
    "#for these cars, the first and last (if applicable) emissions quantities found during testing were added as columns\n",
    "first_tests_new <- transform(first_tests, new_CO = last_tests$CO_adjusted)\n",
    "first_tests_new <- transform(first_tests_new, new_NOX = last_tests$NOX_adjusted)\n",
    "first_tests_new <- transform(first_tests_new, new_HC = last_tests$HC_adjusted)\n",
    "first_tests_new <- transform(first_tests_new, last_CO = last_tests$V_CO_RES)\n",
    "first_tests_new <- transform(first_tests_new, last_HC = last_tests$V_HC_RES)\n",
    "first_tests_new <- transform(first_tests_new, last_NOX = last_tests$V_NOX_RES)\n",
    "first_tests_new <- transform(first_tests_new, last_time = last_tests$V_DATE_TIME)\n",
    "\n"
   ]
  },
  {
   "cell_type": "code",
   "execution_count": null,
   "id": "15f2f8ef",
   "metadata": {},
   "outputs": [],
   "source": [
    "\n",
    "#standardized time, taking it out of the original dataframe's format so timestamps can be subtracted\n",
    "first_tests_new$V_DATE_TIME <- as.POSIXct(first_tests_new$V_DATE_TIME, tz = \"GMT\")\n",
    "first_tests_new$last_time <- as.POSIXct(first_tests_new$last_time, tz = \"GMT\")\n",
    "\n"
   ]
  },
  {
   "cell_type": "code",
   "execution_count": null,
   "id": "716414ac",
   "metadata": {},
   "outputs": [],
   "source": [
    "#new field created, to measure the delta in time between the initial emissions test and the final emissions test for a given vehicle\n",
    "first_tests_new <- transform(first_tests_new, delta_time = first_tests_new$last_time - first_tests_new$V_DATE_TIME)\n",
    "first_tests_new <- transform(first_tests_new, new_delta = as.numeric(first_tests_new$delta_time))\n"
   ]
  },
  {
   "cell_type": "code",
   "execution_count": null,
   "id": "bf1ba69a",
   "metadata": {},
   "outputs": [],
   "source": [
    "#filters the dataset to only include cars with failing tests\n",
    "first_tests_new <- first_tests_new[first_tests_new$V_EM_RES ==\"F\",]\n",
    "first_tests_new <- first_tests_new[first_tests_new$new_delta > 1,]\n",
    "\n"
   ]
  },
  {
   "cell_type": "code",
   "execution_count": null,
   "id": "ad0f9f44",
   "metadata": {},
   "outputs": [],
   "source": [
    "first_tests_new <- transform(first_tests_new, mileage_per_year = first_tests_new$V_ODOMETER/(2014 - first_tests_new$V_VEH_YEAR))\n",
    "#creates new data set that holds both initial and final emissions results. Also creates a mileage per year field\n",
    "\n"
   ]
  },
  {
   "cell_type": "code",
   "execution_count": null,
   "id": "f8353454",
   "metadata": {},
   "outputs": [],
   "source": [
    "#creates a new field, showing the difference between initial emissions and final emissions in a vehicle. this difference is plotted\n",
    "first_tests_new <- transform(first_tests_new, plotted_first_difference_CO = first_tests_new$CO_adjusted - first_tests_new$V_CO_STD)\n",
    "first_tests_new <- transform(first_tests_new, plotted_last_difference_CO = first_tests_new$new_CO - first_tests_new$V_CO_STD)\n",
    "plot(first_tests_new$plotted_first_difference_CO, first_tests_new$plotted_last_difference_CO)\n",
    "\n",
    "\n"
   ]
  },
  {
   "cell_type": "code",
   "execution_count": null,
   "id": "44d88b0e",
   "metadata": {},
   "outputs": [],
   "source": [
    "#the same process done above is repeated for all emissions tested for the vehicles, and plotted\n",
    "#first_tests_CO <- first_tests_new[first_tests_new$CO_adjusted - first_tests_new$new_CO > 0 & first_tests_new$last_CO == \"P\",]\n",
    "first_tests_CO <- first_tests_CO[first_tests_CO$V_CO_RES == \"F\",]\n",
    "first_tests_NOX <- first_tests_new[first_tests_new$NOX_adjusted - first_tests_new$new_NOX > 0 & first_tests_new$last_NOX == \"P\",]\n",
    "first_tests_HC <- first_tests_new[first_tests_new$HC_adjusted - first_tests_new$new_HC > 0 & first_tests_new$last_HC == \"P\",]\n",
    "#creates new data sets to hold cars that failed a particular pollutant test\n"
   ]
  },
  {
   "cell_type": "code",
   "execution_count": null,
   "id": "33453686",
   "metadata": {},
   "outputs": [],
   "source": [
    "\n",
    "first_tests_CO <- transform(first_tests_CO, CO_saved = first_tests_CO$mileage_per_year*(first_tests_CO$CO_adjusted - first_tests_CO$new_CO)/907185 )\n",
    "first_tests_NOX <- transform(first_tests_NOX, NOX_saved = first_tests_NOX$mileage_per_year*(first_tests_NOX$NOX_adjusted - first_tests_NOX$new_NOX)/907185 )\n",
    "first_tests_HC <- transform(first_tests_HC, HC_saved = first_tests_HC$mileage_per_year*(first_tests_HC$HC_adjusted - first_tests_HC$new_HC)/907185 )\n",
    "#finds how much emissions were saved with each vehicle\n",
    "\n"
   ]
  },
  {
   "cell_type": "code",
   "execution_count": null,
   "id": "11aa2435",
   "metadata": {},
   "outputs": [],
   "source": [
    "#emissions saved due to testing is calculated below\n",
    "#this is done as follows:\n",
    "#multiply the average milage travelled for the vehicle by the delta in emissions found above.\n",
    "CO_saved_by_mini_vin <- aggregate(CO_saved~mini_vin, first_tests_CO, sum)\n",
    "CO_saved_by_mini_vin <- CO_saved_by_mini_vin[with(CO_saved_by_mini_vin, order(CO_saved, decreasing = TRUE)),]\n",
    "#finds the CO saved by miniVIN\n",
    "\n",
    "Nox_saved_by_mini_vin <- aggregate(NOX_saved~mini_vin, first_tests_NOX, sum)\n",
    "Nox_saved_by_mini_vin <- Nox_saved_by_mini_vin[with(Nox_saved_by_mini_vin, order(NOX_saved, decreasing = TRUE)),]\n",
    "#finds the NOX saved by minivin\n",
    "\n",
    "HC_saved_by_mini_vin <- aggregate(HC_saved~mini_vin, first_tests_HC, sum)\n",
    "HC_saved_by_mini_vin <- HC_saved_by_mini_vin[with(HC_saved_by_mini_vin, order(HC_saved, decreasing = TRUE)),]\n",
    "#finds the HC saved by miniVIN\n",
    "\n"
   ]
  },
  {
   "cell_type": "code",
   "execution_count": null,
   "id": "34ab1abf",
   "metadata": {},
   "outputs": [],
   "source": [
    "#the above values, initially per mini_vin, are aggregated to find total emissions saved due to emissions testing below.\n",
    "total_CO_saved <- sum(CO_saved_by_mini_vin$CO_saved)\n",
    "total_NOX_saved <- sum(Nox_saved_by_mini_vin$NOX_saved)\n",
    "total_HC_saved <- sum(HC_saved_by_mini_vin$HC_saved)\n",
    "#finds the total emissions saved\n",
    "\n",
    "\n"
   ]
  },
  {
   "cell_type": "code",
   "execution_count": null,
   "id": "0b548f7f",
   "metadata": {},
   "outputs": [],
   "source": [
    "#pollutants lost shown below.\n",
    "\n",
    "#same procedure done as above, but for vehicles that failed their last emissions test\n",
    "#this helps identify potential emissions lost due to cars that continue driving for a period after failing inspection\n",
    "\n",
    "first_tests_CO_failed_last <- first_tests_new[first_tests_new$CO_adjusted - first_tests_new$new_CO < 0 & first_tests_new$last_CO == \"F\",]\n",
    "first_tests_NOX_failed_last <- first_tests_new[first_tests_new$NOX_adjusted - first_tests_new$new_NOX < 0 & first_tests_new$last_CO == \"F\",]\n",
    "first_tests_HC_failed_last <- first_tests_new[first_tests_new$HC_adjusted - first_tests_new$new_HC < 0 & first_tests_new$last_CO == \"F\",]\n",
    "#creates new data sets to hold cars that failed a particular pollutant test\n",
    "\n",
    "first_tests_CO_failed_last <- transform(first_tests_CO_failed_last, CO_lost = first_tests_CO_failed_last$mileage_per_year*(first_tests_CO_failed_last$CO_adjusted - first_tests_CO_failed_last$new_CO)/907185 )\n",
    "first_tests_NOX_failed_last <- transform(first_tests_NOX_failed_last, NOX_lost = first_tests_NOX_failed_last$mileage_per_year*(first_tests_NOX_failed_last$NOX_adjusted - first_tests_NOX_failed_last$new_NOX)/907185 )\n",
    "first_tests_HC_failed_last <- transform(first_tests_HC_failed_last, HC_lost = first_tests_HC_failed_last$mileage_per_year*(first_tests_HC_failed_last$HC_adjusted - first_tests_HC_failed_last$new_HC)/907185 )\n",
    "#finds how much emissions were saved with each vehicle\n",
    "\n",
    "CO_lost_by_mini_vin <- aggregate(CO_lost~mini_vin, first_tests_CO_failed_last, sum)\n",
    "CO_lost_by_mini_vin <- CO_lost_by_mini_vin[with(CO_lost_by_mini_vin, order(CO_lost, decreasing = TRUE)),]\n",
    "#finds the CO saved by miniVIN\n",
    "\n",
    "\n",
    "HC_lost_by_mini_vin <- aggregate(HC_lost~mini_vin, first_tests_HC_failed_last, sum)\n",
    "HC_lost_by_mini_vin <- HC_lost_by_mini_vin[with(HC_lost_by_mini_vin, order(HC_lost, decreasing = TRUE)),]\n",
    "#finds the CO saved by miniVIN\n",
    "\n",
    "NOX_lost_by_mini_vin <- aggregate(NOX_lost~mini_vin, first_tests_NOX_failed_last, sum)\n",
    "NOX_lost_by_mini_vin <- NOX_lost_by_mini_vin[with(NOX_lost_by_mini_vin, order(NOX_lost, decreasing = TRUE)),]\n",
    "#finds the CO saved by miniVIN\n",
    "\n",
    "total_CO_lost <- sum(CO_lost_by_mini_vin$CO_lost)\n",
    "total_NOX_lost <- sum(NOX_lost_by_mini_vin$NOX_lost)\n",
    "total_HC_lost <- sum(HC_lost_by_mini_vin$HC_lost)\n",
    "\n"
   ]
  },
  {
   "cell_type": "code",
   "execution_count": null,
   "id": "2ef7e863",
   "metadata": {},
   "outputs": [],
   "source": []
  },
  {
   "cell_type": "code",
   "execution_count": null,
   "id": "a50f41db",
   "metadata": {},
   "outputs": [],
   "source": []
  },
  {
   "cell_type": "code",
   "execution_count": null,
   "id": "1a74d142",
   "metadata": {},
   "outputs": [],
   "source": []
  },
  {
   "cell_type": "code",
   "execution_count": null,
   "id": "75a0539c",
   "metadata": {},
   "outputs": [],
   "source": []
  }
 ],
 "metadata": {
  "kernelspec": {
   "display_name": "R",
   "language": "R",
   "name": "ir"
  },
  "language_info": {
   "codemirror_mode": "r",
   "file_extension": ".r",
   "mimetype": "text/x-r-source",
   "name": "R",
   "pygments_lexer": "r",
   "version": "3.6.1"
  }
 },
 "nbformat": 4,
 "nbformat_minor": 5
}
