{
 "cells": [
  {
   "cell_type": "markdown",
   "id": "ce8566c6",
   "metadata": {},
   "source": [
    "# Failure By Model Year Analysis"
   ]
  },
  {
   "cell_type": "code",
   "execution_count": null,
   "id": "698a51f8",
   "metadata": {},
   "outputs": [],
   "source": [
    "VTR2016 <- read.csv(\"C:/Users/Allan/Documents/Carnegie Mellon/Junior Year/Spring/EPP Projects/Cleaned data/clean OBD/Cleaned_OBD_Data_2016.csv\")\n"
   ]
  },
  {
   "cell_type": "code",
   "execution_count": null,
   "id": "6cc82004",
   "metadata": {},
   "outputs": [],
   "source": [
    "#creates new dataframes, one for cars that passed the obd test and for cars that failed the test.\n",
    "#a ones column was added to help count the number of cars that passed and failed the test overall\n",
    "Failed_VTR2016 <- VTR2016[which(VTR2016$V_OBD_RES == \"F\"),]\n",
    "Failed_VTR2016 <- transform(Failed_VTR2016, ones = 1)\n",
    "Passed_VTR2016 <- VTR2016[which(VTR2016$V_OBD_RES == \"P\"),]\n",
    "Passed_VTR2016 <- transform(Passed_VTR2016, ones = 1)\n",
    "\n"
   ]
  },
  {
   "cell_type": "code",
   "execution_count": null,
   "id": "17363bf4",
   "metadata": {},
   "outputs": [],
   "source": [
    "#aggregates the above data by model year to show how many cars of that year passed and failed the test\n",
    "fails_by_model_year <- aggregate(ones~V_VEH_YEAR, Failed_VTR2016, sum)\n",
    "passes_by_model_year <- aggregate(ones~V_VEH_YEAR, Passed_VTR2016, sum)\n",
    "#exlcludes data past 2011, because vehicles less than 5 years old do not get tested for emissions\n",
    "passes_by_model_year <- passes_by_model_year[which(passes_by_model_year$V_VEH_YEAR<=2011),]\n",
    "\n"
   ]
  },
  {
   "cell_type": "code",
   "execution_count": null,
   "id": "9b49ec20",
   "metadata": {},
   "outputs": [],
   "source": [
    "#a new table is created below in which a fail rate of the obd test is created by model year, by using a ratio of passed and failed tests from above.\n",
    "new_table <- fails_by_model_year\n",
    "new_table <- transform(new_table, pass_numbers = passes_by_model_year$ones)\n",
    "new_table <- transform(new_table, fail_rate = 100*new_table$ones/(new_table$ones+new_table$pass_numbers) )\n",
    "new_table <- transform(new_table, count_of_cars = new_table$ones+new_table$pass_numbers)\n",
    "\n"
   ]
  },
  {
   "cell_type": "code",
   "execution_count": null,
   "id": "89d8ce7d",
   "metadata": {},
   "outputs": [],
   "source": [
    "failure_percent_by_model_year_2016 <- new_table[,c(\"V_VEH_YEAR\", \"fail_rate\", \"count_of_cars\")]"
   ]
  }
 ],
 "metadata": {
  "kernelspec": {
   "display_name": "R",
   "language": "R",
   "name": "ir"
  },
  "language_info": {
   "codemirror_mode": "r",
   "file_extension": ".r",
   "mimetype": "text/x-r-source",
   "name": "R",
   "pygments_lexer": "r",
   "version": "3.6.1"
  }
 },
 "nbformat": 4,
 "nbformat_minor": 5
}
